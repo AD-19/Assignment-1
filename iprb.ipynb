{
 "cells": [
  {
   "cell_type": "code",
   "execution_count": 2,
   "metadata": {},
   "outputs": [
    {
     "name": "stdout",
     "output_type": "stream",
     "text": [
      "0.77371\n"
     ]
    }
   ],
   "source": [
    "k,m,n=map(int,input().split())\n",
    "\n",
    "total=k+m+n\n",
    "prob=(k*(k-1))+(2*k*m)+(2*k*n)+(0.75*m*(m-1))+(m*n)\n",
    "total_pairs=total*(total-1)\n",
    "\n",
    "result=prob/total_pairs\n",
    "print(round(result,5))"
   ]
  }
 ],
 "metadata": {
  "kernelspec": {
   "display_name": "Python 3",
   "language": "python",
   "name": "python3"
  },
  "language_info": {
   "codemirror_mode": {
    "name": "ipython",
    "version": 3
   },
   "file_extension": ".py",
   "mimetype": "text/x-python",
   "name": "python",
   "nbconvert_exporter": "python",
   "pygments_lexer": "ipython3",
   "version": "3.12.0"
  }
 },
 "nbformat": 4,
 "nbformat_minor": 2
}
