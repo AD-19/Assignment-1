{
 "cells": [
  {
   "cell_type": "code",
   "execution_count": 3,
   "metadata": {},
   "outputs": [
    {
     "name": "stdout",
     "output_type": "stream",
     "text": [
      "46 53 162 186 318 330 337 344 368 471 478 495 502 509 544 629 660 709 729 745 769 783\n"
     ]
    }
   ],
   "source": [
    "s=input()\n",
    "t=input()\n",
    "positions = []\n",
    "\n",
    "for i in range(len(s)-len(t) + 1):\n",
    "    if s[i:i+len(t)]==t:\n",
    "        positions.append(i + 1)\n",
    "\n",
    "print(' '.join(map(str, positions)))"
   ]
  }
 ],
 "metadata": {
  "kernelspec": {
   "display_name": "Python 3",
   "language": "python",
   "name": "python3"
  },
  "language_info": {
   "codemirror_mode": {
    "name": "ipython",
    "version": 3
   },
   "file_extension": ".py",
   "mimetype": "text/x-python",
   "name": "python",
   "nbconvert_exporter": "python",
   "pygments_lexer": "ipython3",
   "version": "3.12.0"
  }
 },
 "nbformat": 4,
 "nbformat_minor": 2
}
