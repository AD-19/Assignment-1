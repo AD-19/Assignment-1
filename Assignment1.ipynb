{
 "cells": [
  {
   "cell_type": "markdown",
   "id": "98106f58",
   "metadata": {},
   "source": [
    "# File: dna.ipynb"
   ]
  },
  {
   "cell_type": "code",
   "execution_count": 1,
   "id": "73134c7f",
   "metadata": {},
   "outputs": [
    {
     "name": "stdout",
     "output_type": "stream",
     "text": [
      "254 228 253 242\n"
     ]
    }
   ],
   "source": [
    "s = input()\n",
    "a = s.count('A')\n",
    "c = s.count('C')\n",
    "g = s.count('G')\n",
    "t = s.count('T')\n",
    "print(a, c, g, t)"
   ]
  },
  {
   "cell_type": "markdown",
   "id": "8a8652c2",
   "metadata": {},
   "source": [
    "# File: fib.ipynb"
   ]
  },
  {
   "cell_type": "code",
   "execution_count": 1,
   "id": "9ac33be3",
   "metadata": {},
   "outputs": [
    {
     "name": "stdout",
     "output_type": "stream",
     "text": [
      "89478485\n"
     ]
    }
   ],
   "source": [
    "n,k=map(int,input().split())\n",
    "\n",
    "rabbits=[0]*n\n",
    "rabbits[0]=1\n",
    "rabbits[1]=1\n",
    "\n",
    "for i in range(2,n):\n",
    "    rabbits[i]=rabbits[i-1]+k*rabbits[i-2]\n",
    "\n",
    "print(rabbits[n-1])"
   ]
  },
  {
   "cell_type": "markdown",
   "id": "eced50eb",
   "metadata": {},
   "source": [
    "# File: gc.ipynb"
   ]
  },
  {
   "cell_type": "code",
   "execution_count": 4,
   "id": "108e66a7",
   "metadata": {},
   "outputs": [
    {
     "name": "stdout",
     "output_type": "stream",
     "text": [
      "Rosalind_6487\n",
      "51.140065\n"
     ]
    }
   ],
   "source": [
    "def gc_contenu(seq):\n",
    "    g_c=0\n",
    "    total=len(seq)\n",
    "    for c in seq:\n",
    "        if c=='G' or c=='C':\n",
    "            g_c+=1\n",
    "    return (g_c/total)*100\n",
    "\n",
    "def max_gc(fasta):\n",
    "    id_max=''\n",
    "    gc_max=0\n",
    "    seq=''\n",
    "    \n",
    "    for l in fasta:\n",
    "        if l.startswith('>'):\n",
    "            if seq:\n",
    "                gc=gc_contenu(seq)\n",
    "                if gc>gc_max:\n",
    "                    gc_max=gc\n",
    "                    id_max=id\n",
    "            id=l[1:]\n",
    "            seq=''\n",
    "        else:\n",
    "            seq+=l.strip()\n",
    "    \n",
    "    if seq:\n",
    "        gc=gc_contenu(seq)\n",
    "        if gc>gc_max:\n",
    "            gc_max=gc\n",
    "            id_max=id\n",
    "\n",
    "    print(id_max)\n",
    "    print(f\"{gc_max:.6f}\")\n",
    "\n",
    "#Paste in between (instead of the example given to me by rosalina), the inputs really didn't want to work on my computer\n",
    "fasta='''\n",
    ">Rosalind_0896\n",
    "TCCGTTGTACTTAAATCTACGTCGGCGTATCAATGTCGTAGCCCCAAGGGGACCACTTGC\n",
    "GATGTACCTGCAACTTGTAGAGTCACCGATTTACGGATATTCGTTCGCAGCACGAAACCG\n",
    "GAAAGGGAGTTACATACATCTCGGGGGGTTCAGGACTGGGCCAGCCGCCAATGCTCGAAC\n",
    "CACCGTGTGATCTCTCAGGATATAAATTATCTCTTGACCCCACATAAATCCATGGCTTTA\n",
    "TTCCGCTGATGTAGGTGATAGACCGTTCAGTGCATAGGTCGTAGAGCGGTCGTTGGCACA\n",
    "AGAAGATGATAGATCTCGAAGACGCGTAGTGCTACGACGTCTCGATTTTTAGATAGACGT\n",
    "ATGACATTGGGATGTAGAGAACAGTATCTTAGAGCACTGGAAGGAGTTCACATCACCTAG\n",
    "TTGATGTCTTCACATTCCTAGATTGCCTCTTACTGCAGGTTTATTAAGGTTAGAATCTCG\n",
    "ATAAGGCCGTTGTGCTGTAAAAAGAAGTATTTAGTAAAGGAGTCCTCCAGATCTGTGCCT\n",
    "GAACTTTCGTCTACGTGCATCCTAGGACAAGCGGCGCTAGTAGAGTCCCCTCACCTGCCG\n",
    "CCGATCATGGCAACCGAAATCGTTGAGTAGTAGAGATGAGGACAACTGAATGTAAGTTAA\n",
    "TTTTGCAGTCTATGATATACGGGTTTCAGATTAACTCAATTTATGCTAGACAGACAATAC\n",
    "ACACGAAAATCGCTACATGCCCGGCCCGCGGAGATTTGGGTGTGGGACAGCATAATCGGT\n",
    "AACGGTACTATGGCTATAACTTGGAAAATCGCACGGCTTATTCAGTGGTTCGTCTACAGG\n",
    "ACTCCGAGACAGCGCTAGTCGACCGCCGAACACCAATCCGGATCGCCACG\n",
    ">Rosalind_2059\n",
    "GTAACATAGGGCACCCTAGAAAGTAGACTTTAGCATAGAATATGACCAGTCAGCCCAACC\n",
    "GTTGTTAATTCATGAGTGTATCAATGCCCCTATTTCAAAGGGCCGACCAGATGGACGGTC\n",
    "GGACATTACCGCGACGAAGGGCGTAGTGCCATAACCAATGCCTCGCAGAAGTGACCGCGC\n",
    "CTGTTAGTCATGGAAGGGGTGGATGATTGTGGGTCTCATTACACGGAAGTGCCGACTATG\n",
    "ACGTTAGTTCGCCAGCACGTCCGTATTAGTCAATTTACAGGTCCAGTGCAATCTAAAGCT\n",
    "GGCATGTTCCTGACCATCGGGTTTGCACTAACCTCAGACGAGTCGTGTTTGTTTGTGTCG\n",
    "CAATCCGTGATCGTTTAGTTTGCCTGGGGAGTGAGTGAGCGCCCGCTTTTTGTGTGTTGC\n",
    "TATGCAGGCTTCGCATAATGGAATGCGATCCAGGTCGTGGCAACCGACACCGTTGAACGG\n",
    "TATCATAAAGCTATTAATCATCGGCCACAGGTCCCAGTCCCTTGGATCCGGAGAAGGAGC\n",
    "ACCTCGTTCAGGAGCCTTCAGTGCTGTAACATCTTGTTAGCAAGTATGAGGTGGAAAGTG\n",
    "GATCGTTGGTTAAGTTATCAAAGCCCGCGTATTTGCCGATCAGGTACCACTTTGACCACG\n",
    "CGGTAACCACATGTGGCTCAGTTCGGGTACACGCTGGCCCGCGATTTATCATAAAACACA\n",
    "GATTGCCTGAGTCATCTGTCGGTCCTTAAATTACCATAAGAAGCCTGCGAAGACTTAGGA\n",
    "CAGTGAGGAGTTAAAACAATGTT\n",
    ">Rosalind_2724\n",
    "CAAGACGATTCATTATCGAACGCAGGAGGTTTAACAGTTGCAGCGAGTCAGCCGAACCTG\n",
    "AGCGGTTAAAACTGGCTCACTTCTTGATAAGCTATCGTGCCTGCCTCTACGCGCGCTTGC\n",
    "GGATTCAGGGTAGTCAGCCCTCTCTCCTAGTGGTTGCTAAACGGTGCGCCCTCCTTAGGG\n",
    "TCGATATTATGGTCCAGGAACGACGCCCCACAACTACACTTTAAGCTGAACTTCAGGTCC\n",
    "TTGGATCAAAACACGGTCATTGAAGGGCGGGTGACGGTCCAACTAGAGGGGGCGACGAGT\n",
    "TACCGGCGGAGCCGAGACCCTTACTTGTGGAACAAATTGTCCAAAACTACTCCTTCTGAC\n",
    "CTTGGAATTCGACAGCAACTATCGCGACAGAGTCCTTATCTCATTGTTAAAGCCCAGTCC\n",
    "GCCTTACGTGGGCGGCTTCTAAAACGACGGTATTGCCTCATTTATGCGGACACCTACATA\n",
    "CAAAAACTAACTTAATGCAACGCGGTACGCCATATCGCTATCTCCGTCCTTCCGACGGAA\n",
    "AAAGGCCAACCGAAGGTCTCAACGGACAACAGACTAAAGGATACACAGAAGAATGTAGTT\n",
    "ATATAATAAGCAAAATTTATATATTTAAACCACTGTTGCTCGAGCAGTAACATCCTGGGT\n",
    "ACACGAAAAGAGCGACCCTCCCCGAATGATTATTGGAGTGTTCAGGACATTTGTCACTCG\n",
    "GAGGCTTGAAGAAGCGAGTGCGTAGAGTCATCCCATAGACTTACTGTCGTGGCTTATCCG\n",
    "TTGAAGAGGGGTTTGATGTTTAACTGATTCTTCCTCGTGCGACATTTTGAGCAAGCTCGT\n",
    "C\n",
    ">Rosalind_3968\n",
    "CTAGAAAGGTACAACGATGCTTGACAGGGCGGGGCGGGTCCATGATTTGCAAAAATTCTC\n",
    "GTTGTCCTTTCGAGTCAACGGTTACTGATAATCGTAATACACGGTGGGCAGCGGCTATAT\n",
    "AGGTAATAGCGAATTCTCATATTGTTGGGTCGATGCGCCTGCTGTATAGCATGGGCACGT\n",
    "CGCCCCCGAAAAAGTCCTAACGCAGCCCCCTTTACGGTTGACTCCGGGGCTTAAGTTCGG\n",
    "ATTTTCTTTTCATAAGTCTCCATAGGTCATTAGTTCCGCCCCAAACTAAAGCTCGAGTAA\n",
    "TCTAAAGACGGGCTACTCTATGCAGCGCGTCTACTTGGCTAAACGCATCAAGGAGAAATT\n",
    "GTTGATCTGGCTCGCGGTGTCCTGAGAGCCCCATTCCATCAGCTGCTTGGTCACTAATCG\n",
    "GGCCTGGAACTTGGCAACGAATAGTCAAATACATTTGTAGAATAAAAGACAGAGGGTACT\n",
    "GGCACGAAAGCTGAGCTCGTGAATTATCTCGTCAAAGCACTACAGTCACGTCTGGGAACT\n",
    "GGTTCCGAGTATTACTTTATTGAGGATGGTATCGGTGGAAAGATGTCGTATTCGGCGGCC\n",
    "GGCCAAGATAGCCCCCCAATTCGTACCAATTGTGAAAGCGTGAGGATACGTTCCGTACAA\n",
    "ACTGTGTTATTTCTTTCTCGGAGTTCGTCATTAGGGTTGAACAGCTGGGAGACGCTCAAG\n",
    "CAACCATCTTAGGGTGCAAGATGCCCAGGTACGCCGGGTTAGCTCCTTGGCCGTGACAAG\n",
    "ATAAGCTACCACGACTCAATGATGTATAATACATGCGCTCTAACTAACTATAGGAGTGGC\n",
    "GCCTAACATCTGTAGTTAGGTTGCGCTCGACGGCCGCTAATGGTGATTGATAGAATTTCG\n",
    "CGTCACTTTCACTATGAGTATTGGCCCTTATCG\n",
    ">Rosalind_9810\n",
    "AAGCGAAATATATATACGTCACAGTAGCAGATATGCGGTGGCCGGAAGGTTCGGCTCCAC\n",
    "TCGGCACTATGGCGGATGCATGTACCTCTTGATGTCACTATAGGTTCACGGTCTAGGGAA\n",
    "TGGCCCCCTATACATCGACACAGATCGATTTTGTCTAACAACCCCCTCCGACAAGGGCCG\n",
    "CTTTGCGTGGATCAACCAACCCGAAGCTTAGAGTGGTTATTTCCGGAGGTGCTGCTTGTG\n",
    "TCCCGGACTAGCTAAATCTTATAGCCTCCAGTGCATGCGAAACGACTCTATTACGAGGGA\n",
    "AGGGCATACCATGTCAGGCATGGTGTCGCGGAGATGGTTGAGAATAAAACCTCCCCCTGT\n",
    "ATGTACGGAGGTAAGATATTACATTCCACTATTTCAACTGAGAGGCGCAGAAGCGAACTG\n",
    "TGATTCTAATTCGATAGACCTACCAAGGGCCGGTTTCACGAGTCTGTTAACGCCGGTGAC\n",
    "AGTTCATTATCCATGCCCGTAAAACACACTGGTTTGACTTGAAATTCTTTCTGATAGAGG\n",
    "TTATTTGCACTCCTAATGGGTCATTGATAACGCAATGGGAGGATCTGACAGTGACCTCGA\n",
    "ATGAAGAGCATCTCGGCTTCCGTACGCCGGCCCCGGGTGAGGAGGAATGCGATGAGCTAA\n",
    "TCGTTGTGAGCTTATTCGAACACGTACATTGTAGACTTGACGCCAGATAAACATAAATGG\n",
    "TGGGACCGAACTTTTGAACTAACCTGTCAATAACTGAAGGCAGCCGCTAGCACGGTCTGT\n",
    "GGCTCCTTAGAGAAACGCGACTCGAGCCGCTAGACGAACTAGGAACCATTCGGCCGCGTT\n",
    "CAAGGGTGACTAGAAGCTTCCGAAGGGTACATTGCGAAGCGAAGTGCGCAAATAGAGTCG\n",
    "CCCTGCCATGCCACGGGCCCCACACAATGCGAGTCCGCCTAA\n",
    ">Rosalind_7265\n",
    "GTTCTCGATCACATAAGTTCGCTTCAAGAGAGAAGTTAATGGCATAGGGATTGGCACGTA\n",
    "GGTTTAACCCCCGAGTGCATGGGATCTACCGTCACACCCGTGCGACTCGGGGTTCACCAT\n",
    "GCGGATGTGCTCATGCGCAATTTCAAGCAAGTTCCGCCGTGGCTTCACACGAACTTCCGA\n",
    "TACAGCCTACGGCTGTAGGTTACCGACATTTAAACCTTGTAACCCTGGCAGAGATTGGAG\n",
    "GTTGTTACCGGTATTTACATGATAACATTACTAATTGGAGCCTAAGGTCAATAGGCGATA\n",
    "AGCAGCATCCATGCCGTGCCACTACAGGGTTGGCAACATCATCAACGAGTTCAGATCGGT\n",
    "TGAATATATTCGGGGCCCTACGTGTCAACCTATCTATGTTACGTACCTAAGATAAGGGGC\n",
    "GTTGCAGGAATGCATCTGCTTGAATAGAACAGCGCCAACGTCGCTAATAAGTGGTATGGA\n",
    "GTTTAAACTAGCGGTTGGACGCACGAACCCGTCCCAGGCTCATAGCAACAGGAGCAATGC\n",
    "GCACGTGGCAGTACGCTAGGCTACCTGGTAACGGAATACGGCCTGTTGTCGGTGCTGACG\n",
    "GAGCGGGCTTATATTGCCTGGGCTCCATTATTAGGCTGTTCAAAACCCGCGAATATGGGC\n",
    "ATAAGGCTCTTCCTAAAGGGGAGGCATCGTGCATCTACAATCTATTGCGCCCACTGCCGG\n",
    "ATCGGGAGAATCAGATTGTGATAGAGATCCGTAGTAGTATTCCGGCTCATCATTAGGCAG\n",
    "AACCGTGTGGTCCACACCCTGAAGCCAGTAACCGTACTTGTCGGGTTATGGGAGTAACGA\n",
    "CGAGGAATGTTTACCTCTACTACACATTGTGTGCC\n",
    ">Rosalind_8585\n",
    "TCGCTATAAGGCCTGTCGATGAGAAACCAACGTGGAAGATGGGAGGTGGACAGAACCGAA\n",
    "GTAATCGGATAGTGGGGACAAGCGATTCCAATAAGTGAGGTCCATTCGCCCCGTTTAAGT\n",
    "CAATCGTTGAAGTAGCGAATGTGTATGCACTGTCTCAGCCAGTCCGACCATCAGGATTCA\n",
    "TACGCTGCAATGAGGGCTGGTAGTGCTGTGCGTGCGCTGCTACGAACTCGTTGTTACCAT\n",
    "CCCGAAGGCGTCACCGACCCCATTCTAATCGTAAATAGTATGTTTTTATAGGTCGCGGGG\n",
    "GACATTATTTAGGCCACGGAGAAAACTAGTGGAACAGGAACGGATTCGCCGTTGCGCCCG\n",
    "CCGGGCATCCTTCGTACTCCCGACTGCAGGGATGGACTCCTAGCCAACTCACAGCTAAAG\n",
    "TTCACAGCCTGAGCTAGTCTGACGTTTAGGGTATCATCTACAGAACCAGTCTTCTGGTGC\n",
    "TGATTTAACATGTAATTTGGGTTATCGTTGTGCTTTACGGGGTCGCTCGCGCAAACAGTC\n",
    "GATATCCTAGCGAATCCCCTCTTTTGCAAGCGGGACAGCTGAGGGACTGCATGAAGCTCC\n",
    "ACCAATATCAGAATCAATTCTGCAGTGACTCTTGGGTTCGGCATTAACTACTCTTTCTCT\n",
    "GGATCCAGGTCATTGAGAGTAACGGTGATACCTTTGACCGTTGCCGGATAAGTAGGGAGT\n",
    "CGCGGAGACTTGGTGGCTAAGATAACTCTGTGGGATTTTTCCTAGTGACCCTATCTCTAA\n",
    "GTTCTTTAAGGCATCCCTGATAGGTTACCAGCAGGCATTCCCGATAGGACGCTTGACCGG\n",
    "TTCAGACGCATGAACAGGCCCTATGAGGCGTCACGAGAAGGCTTGTTG\n",
    ">Rosalind_0951\n",
    "GGGAGTCCCCTGCCTACGGCGCATCCCCTACGTGTACCGAGTCTCTTGTTCGTTTGGACA\n",
    "CACAAAGCGAGTTCTTTGGGTGCAGTCGGGGTGAAACATAATCTATCAATGGTACCGTCG\n",
    "TCGCAGGTTCACTCTGTACGACCGTGATTCTCTTAGGATGATAATACCGCTTGTGACAAT\n",
    "TCCCAAGGCGAGGTTAGCACAAACGAGAGGCTAAGTGCACGTAATTTTATCTGCTATTCG\n",
    "CCGGATAGTCTAACTGAATGATATATCCTTCCGCTAAGTACAATAGTCCGCGTACAGTCA\n",
    "TTGCCCTGGCGACCTAAACGCACTGGTTCCCGCTAGTAGTCTAGTTCCCGGAGACAATAA\n",
    "CAGATTATCAACGCACACGGGTACCAAACTCTGACATGGATAGCCCAGAATCATTTGCCT\n",
    "GGTCTTATGCGCGACTGTCCGAGACCGAGTTACTACTAGGGACTGGCCACCACTGATATT\n",
    "AGAACGCTTGTTTCGGTAGTTGCGTCTTGATGCAAGAATAGCATACACATCGGCGTCCCG\n",
    "CACCTCCACTGAGGTTCTTCAGGGAGACTCGTTCGCGGAGACCTTCCCACAAAGCTTGCT\n",
    "GTAAGGTGCAGCCGAAAGTCTTTCTGGGGTCATTTGGCTGTCAGGAAGTTTGCTTCGTTG\n",
    "TTGTTGGAATATGCACAGGGGCACACCCCACGAAGTGAGAGCGAAGCGGACTGCCCTACA\n",
    "ACCAGATCTGCATCCGTAACCACCCGGCGTTGGCAAATATTTTCGACAACTCCAGTCTAG\n",
    "ATCGAGCGGACTTGCCCAAGATTGATCATCTCCGAGCCAGATGCGCAACCGGTTTGAAGT\n",
    "GGACGGGGCTACTGGTTTGATAGCACGGGTGGAATCTCTAGGAAACAAGCCTCTAGGCAA\n",
    "CTATCGATGACTAACGTTTAGCCGAATGACTTGAACTAGTGCGTCCCC\n",
    ">Rosalind_6487\n",
    "GCCATTCGGCAAAACATTCGCTGGCTCAGTCGAATTGCATTGCTATAAGTTCTATCAACT\n",
    "TGTTACGGATTGCCCTGAGGTAAGTTGGGGGGTAAGGACCAAATATGCAATCACTCTCGA\n",
    "GGCTATTAGGGGACTTTGAATAGTCGTCACTGTTTTCACTCAAATCTGATTTCTCGCTCT\n",
    "CTTTAGCCTAGCTAAGGCCGATCAGGGCGAATTCATAGAGATAACGAGTAATTTACCGCC\n",
    "CGATAATATCATACGGGAGCAGCCTCGCTGAGCGGTCGACCGGCCATCCCAAGAAGCTCA\n",
    "CGCCACGTATGCCCGTTAACTTGGGACCGCGGCTGAATCCGGGTCTGTTGAGGATCTGCC\n",
    "ACCAACCCGAAATTCATGTGATGGAGCATTGTTGAATGTGTAGTACGCACGCCACTGTCT\n",
    "GGAGCTGACGAGTTGGCGAAGCCCTGGAGCGGACATTAGCGCCGAGCCGTAGACCCTCCT\n",
    "AACTCTTTAAAAGTACTAACCTTGGGCGCCCGTAGGGCGTCCTGAGAGGACTGGTGCGCT\n",
    "ATGACTAACTGATAGAGGGGCGGTCTAACGTAACTTGTGAAGTTAAGTTGGTAAAATCTA\n",
    "CATAAACTAATGCGCGTTTCTTATCCGGAGCCCGTGAAGGACAAGGCTGATGCGACGGGG\n",
    "CATGCAGACCTACAGTACCCGTTAATCGTCCGTTCGACTAGATTCTTCGACTTCCAGGTG\n",
    "GCATCAAAGCGCATTCTGTCAGAGTCCAAACGAAAGGGAGCAGTACAGGGTGGTCTGAAG\n",
    "TCAGTGGCGTTTCACTGCACATGGTATTACTTTGGCCACATAACAATTTGGCTATACGGG\n",
    "CCTGGCGAGATTCGTCCCGCGAGAGTCAAAACTGCCCAGCGCGCGTCGAGAAAAGACCGC\n",
    "AACATTCGCAATCTCAAGGCA\n",
    "'''.strip().splitlines()\n",
    "\n",
    "max_gc(fasta)"
   ]
  },
  {
   "cell_type": "markdown",
   "id": "4ccbf572",
   "metadata": {},
   "source": [
    "# File: hamm.ipynb"
   ]
  },
  {
   "cell_type": "code",
   "execution_count": 1,
   "id": "b35a3d1d",
   "metadata": {},
   "outputs": [
    {
     "name": "stdout",
     "output_type": "stream",
     "text": [
      "474\n"
     ]
    }
   ],
   "source": [
    "s=input()\n",
    "t=input()\n",
    "hamming_distance=0\n",
    "\n",
    "for i in range(len(s)):\n",
    "    if s[i] != t[i]:\n",
    "        hamming_distance+=1\n",
    "\n",
    "print(hamming_distance)"
   ]
  },
  {
   "cell_type": "markdown",
   "id": "71ca55d9",
   "metadata": {},
   "source": [
    "# File: hea.ipynb"
   ]
  },
  {
   "cell_type": "code",
   "execution_count": 1,
   "id": "2104ed69",
   "metadata": {},
   "outputs": [
    {
     "name": "stdout",
     "output_type": "stream",
     "text": [
      "99998 99994 99988 99993 99966 99978 99986 99985 99966 99966 99953 99946 99936 99969 99971 99984 9995 [...]"
     ]
    }
   ],
   "source": [
    "def heap(arr, n, i):\n",
    "    largest=i\n",
    "    l=2*i+1\n",
    "    r=2*i+2\n",
    "    if l<n and arr[i]<arr[l]:\n",
    "        largest=l\n",
    "    if r<n and arr[largest]<arr[r]:\n",
    "        largest=r\n",
    "    if largest!=i:\n",
    "        arr[i],arr[largest]=arr[largest],arr[i]\n",
    "        heap(arr,n,largest)\n",
    "\n",
    "def maxh(arr):\n",
    "    n=len(arr)\n",
    "    for i in range(n//2-1,-1,-1):\n",
    "        heap(arr,n,i)\n",
    "    return arr\n",
    "\n",
    "n=int(input())\n",
    "A=list(map(int,input().split()))\n",
    "result=maxh(A)\n",
    "print(' '.join(map(str,result)))\n"
   ]
  },
  {
   "cell_type": "markdown",
   "id": "cbc89e2c",
   "metadata": {},
   "source": [
    "# File: hs.ipynb"
   ]
  },
  {
   "cell_type": "code",
   "execution_count": 1,
   "id": "629caaea",
   "metadata": {},
   "outputs": [
    {
     "name": "stdout",
     "output_type": "stream",
     "text": [
      "-99996 -99995 -99994 -99992 -99988 -99987 -99980 -99978 -99977 -99975 -99974 -99973 -99973 -99966 -9 [...]"
     ]
    }
   ],
   "source": [
    "def heap(arr,n,i):\n",
    "    largest=i\n",
    "    l=2*i+1\n",
    "    r=2*i+2\n",
    "    if l<n and arr[i]<arr[l]:\n",
    "        largest=l\n",
    "    if r<n and arr[largest]<arr[r]:\n",
    "        largest=r\n",
    "    if largest!=i:\n",
    "        arr[i],arr[largest]=arr[largest],arr[i]\n",
    "        heap(arr,n,largest)\n",
    "\n",
    "def heapSort(arr):\n",
    "    n=len(arr)\n",
    "    for i in range(n//2-1,-1,-1):\n",
    "        heap(arr,n,i)\n",
    "    for i in range(n-1,0,-1):\n",
    "        arr[i],arr[0]=arr[0],arr[i]\n",
    "        heap(arr,i,0)\n",
    "\n",
    "n=int(input())\n",
    "arr=list(map(int,input().split()))\n",
    "heapSort(arr)\n",
    "print(' '.join(map(str,arr)))\n"
   ]
  },
  {
   "cell_type": "markdown",
   "id": "1a7d12c8",
   "metadata": {},
   "source": [
    "# File: ins.ipynb"
   ]
  },
  {
   "cell_type": "code",
   "execution_count": 2,
   "id": "4647a849",
   "metadata": {},
   "outputs": [
    {
     "name": "stdout",
     "output_type": "stream",
     "text": [
      "181339\n"
     ]
    }
   ],
   "source": [
    "n = int(input())\n",
    "A = list(map(int, input().split()))\n",
    "swaps = 0\n",
    "\n",
    "for i in range(1, n):\n",
    "    k = i\n",
    "    while k > 0 and A[k] < A[k - 1]:\n",
    "        A[k], A[k - 1] = A[k - 1], A[k]\n",
    "        swaps += 1\n",
    "        k -= 1\n",
    "\n",
    "print(swaps)"
   ]
  },
  {
   "cell_type": "markdown",
   "id": "0b167907",
   "metadata": {},
   "source": [
    "# File: iprb.ipynb"
   ]
  },
  {
   "cell_type": "code",
   "execution_count": 2,
   "id": "a6c163fc",
   "metadata": {},
   "outputs": [
    {
     "name": "stdout",
     "output_type": "stream",
     "text": [
      "0.77371\n"
     ]
    }
   ],
   "source": [
    "k,m,n=map(int,input().split())\n",
    "\n",
    "total=k+m+n\n",
    "prob=(k*(k-1))+(2*k*m)+(2*k*n)+(0.75*m*(m-1))+(m*n)\n",
    "total_pairs=total*(total-1)\n",
    "\n",
    "result=prob/total_pairs\n",
    "print(round(result,5))"
   ]
  },
  {
   "cell_type": "markdown",
   "id": "033e30b4",
   "metadata": {},
   "source": [
    "# File: med.ipynb"
   ]
  },
  {
   "cell_type": "code",
   "execution_count": 3,
   "id": "333715ad",
   "metadata": {},
   "outputs": [
    {
     "name": "stdout",
     "output_type": "stream",
     "text": [
      "51863\n"
     ]
    }
   ],
   "source": [
    "n=int(input())\n",
    "A=list(map(int,input().split()))\n",
    "k=int(input())\n",
    "\n",
    "A.sort()\n",
    "print(A[k-1])"
   ]
  },
  {
   "cell_type": "markdown",
   "id": "058ffb36",
   "metadata": {},
   "source": [
    "# File: mer.ipynb"
   ]
  },
  {
   "cell_type": "code",
   "execution_count": 1,
   "id": "6aed563a",
   "metadata": {},
   "outputs": [
    {
     "name": "stdout",
     "output_type": "stream",
     "text": [
      "-10000 -9999 -9998 -9995 -9992 -9988 -9987 -9986 -9984 -9983 -9981 -9981 -9980 -9976 -9975 -9974 -99 [...]"
     ]
    }
   ],
   "source": [
    "n=int(input())\n",
    "A=list(map(int,input().split()))\n",
    "m=int(input())\n",
    "B=list(map(int,input().split()))\n",
    "\n",
    "i=j=0\n",
    "C=[]\n",
    "\n",
    "while i<len(A) and j<len(B):\n",
    "    if A[i]<B[j]:\n",
    "        C.append(A[i])\n",
    "        i+=1\n",
    "    else:\n",
    "        C.append(B[j])\n",
    "        j+=1\n",
    "\n",
    "C.extend(A[i:])\n",
    "C.extend(B[j:])\n",
    "\n",
    "print(' '.join(map(str,C)))"
   ]
  },
  {
   "cell_type": "markdown",
   "id": "8cbe333d",
   "metadata": {},
   "source": [
    "# File: par.ipynb"
   ]
  },
  {
   "cell_type": "code",
   "execution_count": 1,
   "id": "779f9b10",
   "metadata": {},
   "outputs": [
    {
     "name": "stdout",
     "output_type": "stream",
     "text": [
      "-90894 -39219 -33893 -28885 -24511 -84844 -56409 -59488 -88698 -95525 -47574 -82373 -32701 -92914 -2 [...]"
     ]
    }
   ],
   "source": [
    "n=int(input())\n",
    "A=list(map(int,input().split()))\n",
    "\n",
    "lim=A[0]\n",
    "left=[x for x in A if x<lim]\n",
    "equal=[x for x in A if x==lim]\n",
    "right=[x for x in A if x>lim]\n",
    "\n",
    "B=left+equal+right\n",
    "\n",
    "print(' '.join(map(str,B)))"
   ]
  },
  {
   "cell_type": "markdown",
   "id": "bf2c556a",
   "metadata": {},
   "source": [
    "# File: par3.ipynb"
   ]
  },
  {
   "cell_type": "code",
   "execution_count": 1,
   "id": "7d154fd3",
   "metadata": {},
   "outputs": [
    {
     "name": "stdout",
     "output_type": "stream",
     "text": [
      "-56509 -2645 -52992 52449 38022 38863 -58098 -51154 31481 -23307 -30107 -3860 -49020 1318 55196 -888 [...]"
     ]
    }
   ],
   "source": [
    "n=int(input())\n",
    "A=list(map(int,input().split()))\n",
    "\n",
    "lim=A[0]\n",
    "left=[x for x in A if x<lim]\n",
    "equal=[x for x in A if x==lim]\n",
    "right=[x for x in A if x>lim]\n",
    "\n",
    "B=left+equal+right\n",
    "\n",
    "print(' '.join(map(str,B)))"
   ]
  },
  {
   "cell_type": "markdown",
   "id": "1128b62a",
   "metadata": {},
   "source": [
    "# File: prot.ipynb"
   ]
  },
  {
   "cell_type": "code",
   "execution_count": 3,
   "id": "7197e921",
   "metadata": {},
   "outputs": [
    {
     "name": "stdout",
     "output_type": "stream",
     "text": [
      "MFDPFLDAIHDRPCSGCIFLFGRPVATILTHGVTVKICNNPILAISSLTVVLGTYLSGGLIHETGRHAIRCRLYVTKRLHSSWHRNRETIPPFLALLICT [...]"
     ]
    }
   ],
   "source": [
    "codon_table = {\n",
    "    'UUU': 'F', 'CUU': 'L', 'AUU': 'I', 'GUU': 'V',\n",
    "    'UUC': 'F', 'CUC': 'L', 'AUC': 'I', 'GUC': 'V',\n",
    "    'UUA': 'L', 'CUA': 'L', 'AUA': 'I', 'GUA': 'V',\n",
    "    'UUG': 'L', 'CUG': 'L', 'AUG': 'M', 'GUG': 'V',\n",
    "    'UCU': 'S', 'CCU': 'P', 'ACU': 'T', 'GCU': 'A',\n",
    "    'UCC': 'S', 'CCC': 'P', 'ACC': 'T', 'GCC': 'A',\n",
    "    'UCA': 'S', 'CCA': 'P', 'ACA': 'T', 'GCA': 'A',\n",
    "    'UCG': 'S', 'CCG': 'P', 'ACG': 'T', 'GCG': 'A',\n",
    "    'UAU': 'Y', 'CAU': 'H', 'AAU': 'N', 'GAU': 'D',\n",
    "    'UAC': 'Y', 'CAC': 'H', 'AAC': 'N', 'GAC': 'D',\n",
    "    'UAA': 'Stop', 'CAA': 'Q', 'AAA': 'K', 'GAA': 'E',\n",
    "    'UAG': 'Stop', 'CAG': 'Q', 'AAG': 'K', 'GAG': 'E',\n",
    "    'UGU': 'C', 'CGU': 'R', 'AGU': 'S', 'GGU': 'G',\n",
    "    'UGC': 'C', 'CGC': 'R', 'AGC': 'S', 'GGC': 'G',\n",
    "    'UGA': 'Stop', 'CGA': 'R', 'AGA': 'R', 'GGA': 'G',\n",
    "    'UGG': 'W', 'CGG': 'R', 'AGG': 'R', 'GGG': 'G'\n",
    "}\n",
    "\n",
    "rna=input()\n",
    "protein=''\n",
    "\n",
    "for i in range(0, len(rna), 3):\n",
    "    codon=rna[i:i+3]\n",
    "    amino_acid=codon_table.get(codon, '')\n",
    "    if amino_acid=='Stop':\n",
    "        break\n",
    "    protein += amino_acid\n",
    "\n",
    "print(protein)\n"
   ]
  },
  {
   "cell_type": "markdown",
   "id": "eb15aef9",
   "metadata": {},
   "source": [
    "# File: ps.ipynb"
   ]
  },
  {
   "cell_type": "code",
   "execution_count": 1,
   "id": "8942c9b0",
   "metadata": {},
   "outputs": [
    {
     "name": "stdout",
     "output_type": "stream",
     "text": [
      "-99999 -99998 -99997 -99995 -99993 -99991 -99985 -99985 -99984 -99983 -99982 -99978 -99977 -99977 -9 [...]"
     ]
    }
   ],
   "source": [
    "n=int(input())\n",
    "arr=list(map(int,input().split()))\n",
    "k=int(input())\n",
    "arr.sort()\n",
    "print(' '.join(map(str,arr[:k])))"
   ]
  },
  {
   "cell_type": "markdown",
   "id": "1e04d2dc",
   "metadata": {},
   "source": [
    "# File: qs.ipynb"
   ]
  },
  {
   "cell_type": "code",
   "execution_count": 1,
   "id": "bafe37ca",
   "metadata": {},
   "outputs": [
    {
     "name": "stdout",
     "output_type": "stream",
     "text": [
      "-99998 -99997 -99996 -99995 -99994 -99989 -99989 -99988 -99984 -99979 -99979 -99979 -99978 -99976 -9 [...]"
     ]
    }
   ],
   "source": [
    "def quicksort(tab):\n",
    "    if len(tab) <= 1:\n",
    "        return tab\n",
    "    lim=tab[0]\n",
    "    less=[x for x in tab if x<lim]\n",
    "    equal=[x for x in tab if x==lim]\n",
    "    plus=[x for x in tab if x>lim]\n",
    "    return quicksort(less)+equal+quicksort(plus)\n",
    "\n",
    "n=int(input())\n",
    "A=list(map(int,input().split()))\n",
    "result=quicksort(A)\n",
    "print(' '.join(map(str,result)))"
   ]
  },
  {
   "cell_type": "markdown",
   "id": "e26f16ba",
   "metadata": {},
   "source": [
    "# File: revc.ipynb"
   ]
  },
  {
   "cell_type": "code",
   "execution_count": 2,
   "id": "be85e72c",
   "metadata": {},
   "outputs": [
    {
     "name": "stdout",
     "output_type": "stream",
     "text": [
      "GCTTGTAGAGAAAGAAGACCGGGTGCAAGTGGTTACGTGGGTCATTTCACAATAAGCGTCACGGACAAATTATCAACGAATTTCTTTGTGTTCAAACGAA [...]"
     ]
    }
   ],
   "source": [
    "s=input()\n",
    "s=s[::-1]\n",
    "s=s.replace('A', 't').replace('T', 'a').replace('C', 'g').replace('G', 'c')\n",
    "print(s.upper())"
   ]
  },
  {
   "cell_type": "markdown",
   "id": "0f448a08",
   "metadata": {},
   "source": [
    "# File: rna.ipynb"
   ]
  },
  {
   "cell_type": "code",
   "execution_count": 1,
   "id": "8aa0c4ae",
   "metadata": {},
   "outputs": [
    {
     "name": "stdout",
     "output_type": "stream",
     "text": [
      "ACGUUCCUUGUCGAUUGACGUGCGUCCCCACGACGAACACUUCCGUAAUGGGCGCAUAGUAAGGAACAGGCUGAGAGUCGGAAGUUGUCAGUACUCUCGG [...]"
     ]
    }
   ],
   "source": [
    "t=input()\n",
    "u=t.replace('T', 'U')\n",
    "print(u)"
   ]
  },
  {
   "cell_type": "markdown",
   "id": "a5e7afc6",
   "metadata": {},
   "source": [
    "# File: subs.ipynb"
   ]
  },
  {
   "cell_type": "code",
   "execution_count": 3,
   "id": "dcee7a19",
   "metadata": {},
   "outputs": [
    {
     "name": "stdout",
     "output_type": "stream",
     "text": [
      "46 53 162 186 318 330 337 344 368 471 478 495 502 509 544 629 660 709 729 745 769 783\n"
     ]
    }
   ],
   "source": [
    "s=input()\n",
    "t=input()\n",
    "positions = []\n",
    "\n",
    "for i in range(len(s)-len(t) + 1):\n",
    "    if s[i:i+len(t)]==t:\n",
    "        positions.append(i + 1)\n",
    "\n",
    "print(' '.join(map(str, positions)))"
   ]
  }
 ],
 "metadata": {},
 "nbformat": 4,
 "nbformat_minor": 5
}
